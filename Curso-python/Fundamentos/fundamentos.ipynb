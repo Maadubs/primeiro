{
 "cells": [
  {
   "cell_type": "code",
   "execution_count": 56,
   "id": "8df2c7fa-b494-42fd-9065-10330ad8fb05",
   "metadata": {},
   "outputs": [
    {
     "name": "stdout",
     "output_type": "stream",
     "text": [
      "hello world!\n"
     ]
    }
   ],
   "source": [
    "print('hello world!')"
   ]
  },
  {
   "cell_type": "markdown",
   "id": "8e48ba7b-cb71-49d2-b0be-498ac74d4ed2",
   "metadata": {},
   "source": [
    "# Primeiros exemplos"
   ]
  },
  {
   "cell_type": "code",
   "execution_count": null,
   "id": "01c2977c-c0fe-43ac-b0c9-9cb6c42b424c",
   "metadata": {},
   "outputs": [],
   "source": [
    "print('primeiro programa')"
   ]
  },
  {
   "cell_type": "code",
   "execution_count": null,
   "id": "c36321de-8247-4c96-9cfa-3cf8f02bd91a",
   "metadata": {},
   "outputs": [],
   "source": [
    "print(1 + 5 + 6)\n",
    "print(10 * 5)"
   ]
  },
  {
   "cell_type": "markdown",
   "id": "447df643-c78f-4e49-8950-e83bfdc668af",
   "metadata": {},
   "source": [
    "# Tipos Básicos"
   ]
  },
  {
   "cell_type": "code",
   "execution_count": null,
   "id": "18061114-85a7-4622-a346-7a98adafcf12",
   "metadata": {},
   "outputs": [],
   "source": [
    "print(True)\n",
    "print(False)\n",
    "print(1.2 + 1)\n",
    "print( 'testando tuti')\n",
    "print(\"duas aspas funciona tbm\")\n",
    "print('voce é' + 3 * ' muito' + ' legal')\n",
    "# print(3 + '3') ambiguo\n",
    "print([1, 2 ,3])\n",
    "print({'Nome': 'Pedro', 'idade': 22})\n",
    "print(None)"
   ]
  },
  {
   "cell_type": "markdown",
   "id": "fb7f7994-b8ac-4da8-a6cc-622f7a4c27df",
   "metadata": {},
   "source": [
    "# Variáveis"
   ]
  },
  {
   "cell_type": "code",
   "execution_count": null,
   "id": "019dc167-cfe8-4d9d-8ac1-a10a05f54e28",
   "metadata": {},
   "outputs": [],
   "source": [
    "a = 10\n",
    "b = 5.2\n",
    "\n",
    "print(a + b)\n",
    "a = 'sou uma string'\n",
    "#print(b=float+ a)"
   ]
  },
  {
   "cell_type": "markdown",
   "id": "a7cec8bd-9852-4ca5-8ad5-07283a8f6c83",
   "metadata": {},
   "source": [
    "# Comentários"
   ]
  },
  {
   "cell_type": "code",
   "execution_count": null,
   "id": "ca36a649-e80e-433e-9326-a6533ea3be88",
   "metadata": {},
   "outputs": [],
   "source": [
    "#minhas variáveis \n",
    "salario = 3450.45\n",
    "despesas = 2456.2\n",
    "\"\"\"\n",
    "a ideia é calcular o quanto vai sobrar no final do mês\n",
    "\"\"\"\n",
    "print(salario - despesas)\n",
    "#fim\n",
    "print('fim de verdade') #aqui da para conentar "
   ]
  },
  {
   "cell_type": "markdown",
   "id": "d1571371-634e-4497-b1e5-f5b333ad73a9",
   "metadata": {},
   "source": [
    "# Operadores Aritméticos"
   ]
  },
  {
   "cell_type": "markdown",
   "id": "3b3354c9-de46-457f-a2e5-9da9f8fad753",
   "metadata": {},
   "source": [
    "são conhecidos como binario, pq precisa de dois operadores para funcionar"
   ]
  },
  {
   "cell_type": "code",
   "execution_count": null,
   "id": "a3bf8b9f-8563-469a-b914-1414ce73bea6",
   "metadata": {},
   "outputs": [],
   "source": [
    "print(2 + 3) # o \"+\" conhecido como infix, pois fica no meio dos operando\n",
    "print(4 -7)\n",
    "print(2 * 5.3)\n",
    "print(9.4 / 3)\n",
    "print(9.4 // 3) #quando é duas barras o número é inteiro\n",
    "print(2 ** 8)\n",
    "print(10 % 3) #módulo é o resto da divisão e o símbolo é o da porcentagen\n",
    "a = 12\n",
    "b = a\n",
    "print(a + b)"
   ]
  },
  {
   "cell_type": "markdown",
   "id": "a2937113-73e9-46c4-9373-d0ecb02d0a1b",
   "metadata": {},
   "source": [
    "# Desafios"
   ]
  },
  {
   "cell_type": "code",
   "execution_count": null,
   "id": "f2418f19-7eee-4467-a2b0-02a15c6603ca",
   "metadata": {},
   "outputs": [],
   "source": [
    "salario = 3450.45\n",
    "despesas = 2456.2\n",
    "percentual_comprometido = despesas / salario * 100\n",
    "print(despesas / salario * 100)\n",
    "percentual_comprometido"
   ]
  },
  {
   "cell_type": "markdown",
   "id": "1ed298b9-b114-4e41-95e9-0fba60d8a75c",
   "metadata": {},
   "source": [
    "# Operadores Relacionais"
   ]
  },
  {
   "cell_type": "code",
   "execution_count": null,
   "id": "8ff70b6f-13e7-44b0-b146-f5a8b9e1b031",
   "metadata": {},
   "outputs": [],
   "source": [
    "print(3 > 4)\n",
    "print(4 >= 3)\n",
    "print(1 < 2)\n",
    "print(3 <= 1)\n",
    "print(3 == 3)\n",
    "print(3 != 2) #simbolo de diferente\n",
    "print(2 == '2') #False, mas varia de linguagem para linguagem"
   ]
  },
  {
   "cell_type": "markdown",
   "id": "f18534eb-85c0-4b04-b4b3-53a60780504a",
   "metadata": {},
   "source": [
    "# Operadores de Atribuição"
   ]
  },
  {
   "cell_type": "code",
   "execution_count": null,
   "id": "1ab9a0f1-a26e-4828-b908-af3f8694a6f0",
   "metadata": {},
   "outputs": [],
   "source": [
    "a = 3\n",
    "a = a + 7\n",
    "print(a)\n",
    "\n",
    "# a = 5\n",
    "a += 5 #a = a + 5\n",
    "print(a)\n",
    "\n",
    "a -= 3\n",
    "print(a)\n",
    "\n",
    "a *= 2\n",
    "print(a)\n",
    "\n",
    "a /= 4\n",
    "print(a)\n",
    "\n",
    "a %= 4\n",
    "print(a)\n",
    "\n",
    "a **= 8\n",
    "print(a)\n",
    "\n",
    "a //= 256\n",
    "print(a)\n"
   ]
  },
  {
   "cell_type": "markdown",
   "id": "fea3b607-f163-4597-8b67-12502dcb280a",
   "metadata": {},
   "source": [
    "# Operdores Lógicos"
   ]
  },
  {
   "cell_type": "code",
   "execution_count": null,
   "id": "d9e4277e-988b-4d24-bb5e-1aeac4ac45f5",
   "metadata": {},
   "outputs": [],
   "source": [
    "True or False\n",
    "7 != 3 and 2 > 3 # Falso\n",
    "\n",
    "# Tabela Verdadeiro AND\n",
    "True and True #Verdadeiro\n",
    "True and False #Falso\n",
    "False and True #Falso\n",
    "False and False #Falso\n",
    "\n",
    "# Tabela verdade do OR\n",
    "True or True # Verdadeiro\n",
    "True or False # Verdadeiro\n",
    "False or True # Verdadeiro\n",
    "False or False # Falso\n",
    "\n",
    "# Tabela verdade XOR\n",
    "True != True #falso\n",
    "True != False # verdadeiro\n",
    "False != True # verdadeiro\n",
    "\n",
    "# Operador de negação (unário)\n",
    "not True\n",
    "not False\n",
    "\n",
    "not 0\n",
    "not 1\n",
    "not -1\n",
    "\n",
    "# Cuidado!\n",
    "\n",
    "True & False # =and\n",
    "False | True # | or\n",
    "True ^ False # =XORlogo verdadeiro\n",
    "\n",
    "# um pouvo de realiade\n",
    "saldo = 1000\n",
    "salario = 4000\n",
    "despesas = 2967\n",
    "meta = saldo > 0 and salario - despesas >= 0.2 * salario\n",
    "meta #true\n"
   ]
  },
  {
   "cell_type": "markdown",
   "id": "a1967bbd-03f7-4060-a988-3f1590f19879",
   "metadata": {},
   "source": [
    "# Desafio"
   ]
  },
  {
   "cell_type": "code",
   "execution_count": null,
   "id": "a75e3169-66fe-4bd8-881e-700b05700a98",
   "metadata": {},
   "outputs": [],
   "source": [
    "# Desafio Operadores Lógicos\n",
    "\n",
    "# Os trabalhos\n",
    "trabalho_terca = True\n",
    "trabalho_quinta = False\n",
    "\n",
    "\"\"\"\n",
    "- Confirmando os 2: TV 50' + Sorvete\n",
    "- Confirmando apenas 1: TV 32! + Sorvete\n",
    "- Nenhum confirmado: Fica em casa\n",
    "\"\"\"\n",
    "\n",
    "tv_50_sorvete = trabalho_terca and trabalho_quinta\n",
    "tv_32_sorvete = trabalho_terca or trabalho_quinta\n",
    "fica_em_casa = not trabalho_terca and not trabalho_quinta\n",
    "\n",
    "print(\"tv50+sorvete={} tv32+sorvete={} saudavel{}\"\n",
    "      .format("
   ]
  },
  {
   "cell_type": "code",
   "execution_count": null,
   "id": "130aafc6-f729-4508-8f60-0aed53a137ba",
   "metadata": {},
   "outputs": [],
   "source": [
    "# Desafio Operadores Lógicos\n",
    "\n",
    "# Os trabalhos\n",
    "trabalho_terca = False\n",
    "trabalho_quinta = False \n",
    "\n",
    "\"\"\"\n",
    "- Confirmando os 2: TV 50' + Sorvete\n",
    "- Confirmando apenas 1: TV 32! + Sorvete\n",
    "- Nenhum confirmado: Fica em casa\n",
    "\"\"\"\n",
    "\n",
    "tv_50_sorvete = trabalho_terca and trabalho_quinta\n",
    "tv_32_sorvete = trabalho_terca != trabalho_quinta\n",
    "fica_em_casa = not trabalho_terca and not trabalho_quinta\n",
    "\n",
    "print(\"tv50+sorvete={} tv32+sorvete={} saudavel={}\"\n",
    "      .format(tv_50_sorvete, tv_32_sorvete, fica_em_casa))"
   ]
  },
  {
   "cell_type": "code",
   "execution_count": null,
   "id": "f95cd287-97f5-449b-9351-38245aabf404",
   "metadata": {},
   "outputs": [],
   "source": [
    "# par impar\n",
    "a = float(input('digiteo número'))\n",
    "\n",
    "if a % 2 == 0: print('Esse número é par!')\n",
    "\n",
    "else: print('Ele é ímpar!')"
   ]
  },
  {
   "cell_type": "markdown",
   "id": "c4b60fa3-0253-4ff2-a8ef-1a4cac38ae45",
   "metadata": {},
   "source": [
    "# Operadores Unários"
   ]
  },
  {
   "cell_type": "code",
   "execution_count": null,
   "id": "52bbe3cf-830d-4f60-a42e-8634cb6abf22",
   "metadata": {},
   "outputs": [],
   "source": [
    "a = 3\n",
    "# a++ não funciona em python\n",
    "a += 1\n",
    "# --a não funciona tbm\n",
    "-a # torna o número negativo\n",
    "not 0 # fica verdadeiro, pq o zero é considerado sempre falso e os outros números diferentes de zero verdadeiro\n",
    "not 1 # false\n",
    "not -1 # false\n",
    "not not True # true\n"
   ]
  },
  {
   "cell_type": "markdown",
   "id": "60452aa3-793d-424b-8ddc-25b082b88418",
   "metadata": {},
   "source": [
    "# Operadores Ternários"
   ]
  },
  {
   "cell_type": "code",
   "execution_count": null,
   "id": "2194bc8f-5b33-4b9e-9024-e6045f36949c",
   "metadata": {},
   "outputs": [],
   "source": [
    "esta_chuvendo = True # o true é sempre o mais próximo\n",
    "print('Hoje estou com as roupas ' + ('secas.', ' molhadas.') [esta_chuvendo])\n",
    "esta_chuvendo = False\n",
    "print('Hoje estou com as roupas ' + ('molhadas.' if esta_chuvendo else 'secas.'))\n"
   ]
  },
  {
   "cell_type": "markdown",
   "id": "67d58051-415a-4789-b5ec-7fccce58abe8",
   "metadata": {},
   "source": [
    "# Mais Operadores"
   ]
  },
  {
   "cell_type": "code",
   "execution_count": null,
   "id": "bc2dc156-8138-4725-9b80-5888298f51ef",
   "metadata": {},
   "outputs": [],
   "source": [
    "# Operador de Membro\n",
    "lista = [1, 2, 3, 'ana', 'carla']\n",
    "print(2 in lista)\n",
    "print('ana' not in lista)\n",
    "# operador de identidade\n",
    "x = 3\n",
    "y = x \n",
    "z = 3 # True\n",
    "x is y # True\n",
    "y is z # True\n",
    "x is not z # False\n",
    "lista_a = [1, 2, 3]\n",
    "lista_b = lista_a\n",
    "lista_c = [1, 2, 3]\n",
    "lista_a is lista_b # True\n",
    "lista_a is lista_c # False\n",
    "# isso ocorre pq é possivel botar outros valores para o 1 da lista_a e da lista_c\n",
    "\n"
   ]
  },
  {
   "cell_type": "markdown",
   "id": "e22f5cec-7a87-42d5-92cb-48c3e67ec896",
   "metadata": {},
   "source": []
  },
  {
   "cell_type": "markdown",
   "id": "57cdc400-39e1-44a2-9fe4-e3c97665fca3",
   "metadata": {},
   "source": [
    "# Builtins"
   ]
  },
  {
   "cell_type": "code",
   "execution_count": 30,
   "id": "5eb9ba9a-73e2-4658-a622-33f17014c1db",
   "metadata": {},
   "outputs": [
    {
     "name": "stdout",
     "output_type": "stream",
     "text": [
      "3.3333333333333335\n",
      "Help on built-in function dir in module builtins:\n",
      "\n",
      "dir(...)\n",
      "    Show attributes of an object.\n",
      "\n",
      "    If called without an argument, return the names in the current scope.\n",
      "    Else, return an alphabetized list of names comprising (some of) the attributes\n",
      "    of the given object, and of attributes reachable from it.\n",
      "    If the object supplies a method named __dir__, it will be used; otherwise\n",
      "    the default dir() logic is used and returns:\n",
      "      for a module object: the module's attributes.\n",
      "      for a class object:  its attributes, and recursively the attributes\n",
      "        of its bases.\n",
      "      for any other object: its attributes, its class's attributes, and\n",
      "        recursively the attributes of its class's base classes.\n",
      "\n",
      "Help on built-in function dir in module builtins:\n",
      "\n",
      "dir(...)\n",
      "    Show attributes of an object.\n",
      "\n",
      "    If called without an argument, return the names in the current scope.\n",
      "    Else, return an alphabetized list of names comprising (some of) the attributes\n",
      "    of the given object, and of attributes reachable from it.\n",
      "    If the object supplies a method named __dir__, it will be used; otherwise\n",
      "    the default dir() logic is used and returns:\n",
      "      for a module object: the module's attributes.\n",
      "      for a class object:  its attributes, and recursively the attributes\n",
      "        of its bases.\n",
      "      for any other object: its attributes, its class's attributes, and\n",
      "        recursively the attributes of its class's base classes.\n",
      "\n"
     ]
    },
    {
     "data": {
      "text/plain": [
       "<module 'builtins' (built-in)>"
      ]
     },
     "execution_count": 30,
     "metadata": {},
     "output_type": "execute_result"
    }
   ],
   "source": [
    "# Type\n",
    "type(1)\n",
    "__builtins__.type('fala galera')\n",
    "__builtins__.print(10/3)\n",
    "\n",
    "#__builtins__.help(__builtins__.dir)\n",
    "#1 + 2\n",
    "#_ * 3 # o \"_\" armazena o último resultado\n",
    "#a = 7\n",
    "#dir(__builtins__)\n",
    "\n",
    "nome = 'Joao da Silva'\n",
    "type(nome)\n",
    "__builtin__.len(nome)\n",
    "__builtins__.help(__builtins__.dir)\n",
    "__builtins__.help(__builtins__.dir)\n",
    "__builtins__"
   ]
  },
  {
   "cell_type": "markdown",
   "id": "0e67f151-dce1-4ff1-81d1-ee4f9b067e8a",
   "metadata": {},
   "source": [
    "# Conversão de Tipos\n"
   ]
  },
  {
   "cell_type": "code",
   "execution_count": 36,
   "id": "ba2b5791-eae5-4a84-8907-96d93efce9fa",
   "metadata": {},
   "outputs": [
    {
     "name": "stdout",
     "output_type": "stream",
     "text": [
      "<class 'int'>\n",
      "<class 'str'>\n",
      "5\n",
      "23\n",
      "5.4\n"
     ]
    }
   ],
   "source": [
    "a=2 #int\n",
    "b='3' #string\n",
    "print(type(a))\n",
    "print(type(b))\n",
    "print(a + int(b))\n",
    "\n",
    "print(str(a)+b)\n",
    "\n",
    "type(str(a))\n",
    "\n",
    "print(2+float('3.4'))"
   ]
  },
  {
   "cell_type": "markdown",
   "id": "db3224ae-b736-4087-ab7c-a7c7636b391e",
   "metadata": {},
   "source": [
    "# Coerção Automática"
   ]
  },
  {
   "cell_type": "code",
   "execution_count": 42,
   "id": "e407f754-a86e-404d-a3b5-ecc6bf89d13c",
   "metadata": {},
   "outputs": [
    {
     "data": {
      "text/plain": [
       "int"
      ]
     },
     "execution_count": 42,
     "metadata": {},
     "output_type": "execute_result"
    }
   ],
   "source": [
    "10 / 2\n",
    "type(10 / 2) #float\n",
    "\n",
    "type(10 // 2) #int\n",
    "\n",
    "type(2 + True) #int\n"
   ]
  },
  {
   "cell_type": "markdown",
   "id": "9716341e-2f99-472c-80aa-06b01ebc2c56",
   "metadata": {},
   "source": [
    "# Tipos Numéricos"
   ]
  },
  {
   "cell_type": "code",
   "execution_count": 63,
   "id": "4868aeb3-57c9-49c3-bcb7-23590824207c",
   "metadata": {},
   "outputs": [
    {
     "data": {
      "text/plain": [
       "3.6"
      ]
     },
     "execution_count": 63,
     "metadata": {},
     "output_type": "execute_result"
    }
   ],
   "source": [
    "dir(int)\n",
    "dir(float)\n",
    "\n",
    "a=5\n",
    "b=2.5\n",
    "a/b #float\n",
    "a + b #float\n",
    "a - b #float\n",
    "a * b # float\n",
    "#float sempre predomina diante de um interger\n",
    "\n",
    "b.is_integer() #False\n",
    "5.0.is_integer() #True\n",
    "int.__add__(2, 3) #2 + 3\n",
    " \n",
    "(-3.6).__abs__()\n",
    "#=\n",
    "abs(-3.6)"
   ]
  },
  {
   "cell_type": "markdown",
   "id": "5be78b8e-7898-4992-8917-dc9f6327468c",
   "metadata": {},
   "source": [
    "# Números Decimais"
   ]
  },
  {
   "cell_type": "code",
   "execution_count": 72,
   "id": "095c7570-3dd2-4661-bd97-892c24c67b01",
   "metadata": {},
   "outputs": [
    {
     "data": {
      "text/plain": [
       "['Decimal',\n",
       " 'In',\n",
       " 'Out',\n",
       " '_',\n",
       " '_1',\n",
       " '_15',\n",
       " '_2',\n",
       " '_21',\n",
       " '_22',\n",
       " '_26',\n",
       " '_37',\n",
       " '_38',\n",
       " '_39',\n",
       " '_40',\n",
       " '_41',\n",
       " '_42',\n",
       " '_43',\n",
       " '_44',\n",
       " '_45',\n",
       " '_46',\n",
       " '_5',\n",
       " '_51',\n",
       " '_53',\n",
       " '_6',\n",
       " '_61',\n",
       " '_62',\n",
       " '_63',\n",
       " '_64',\n",
       " '_68',\n",
       " '_7',\n",
       " '_70',\n",
       " '_71',\n",
       " '__',\n",
       " '___',\n",
       " '__builtin__',\n",
       " '__builtins__',\n",
       " '__doc__',\n",
       " '__loader__',\n",
       " '__name__',\n",
       " '__package__',\n",
       " '__session__',\n",
       " '__spec__',\n",
       " '_dh',\n",
       " '_i',\n",
       " '_i1',\n",
       " '_i10',\n",
       " '_i11',\n",
       " '_i12',\n",
       " '_i13',\n",
       " '_i14',\n",
       " '_i15',\n",
       " '_i16',\n",
       " '_i17',\n",
       " '_i18',\n",
       " '_i19',\n",
       " '_i2',\n",
       " '_i20',\n",
       " '_i21',\n",
       " '_i22',\n",
       " '_i23',\n",
       " '_i24',\n",
       " '_i25',\n",
       " '_i26',\n",
       " '_i27',\n",
       " '_i28',\n",
       " '_i29',\n",
       " '_i3',\n",
       " '_i30',\n",
       " '_i31',\n",
       " '_i32',\n",
       " '_i33',\n",
       " '_i34',\n",
       " '_i35',\n",
       " '_i36',\n",
       " '_i37',\n",
       " '_i38',\n",
       " '_i39',\n",
       " '_i4',\n",
       " '_i40',\n",
       " '_i41',\n",
       " '_i42',\n",
       " '_i43',\n",
       " '_i44',\n",
       " '_i45',\n",
       " '_i46',\n",
       " '_i47',\n",
       " '_i48',\n",
       " '_i49',\n",
       " '_i5',\n",
       " '_i50',\n",
       " '_i51',\n",
       " '_i52',\n",
       " '_i53',\n",
       " '_i54',\n",
       " '_i55',\n",
       " '_i56',\n",
       " '_i57',\n",
       " '_i58',\n",
       " '_i59',\n",
       " '_i6',\n",
       " '_i60',\n",
       " '_i61',\n",
       " '_i62',\n",
       " '_i63',\n",
       " '_i64',\n",
       " '_i65',\n",
       " '_i66',\n",
       " '_i67',\n",
       " '_i68',\n",
       " '_i69',\n",
       " '_i7',\n",
       " '_i70',\n",
       " '_i71',\n",
       " '_i72',\n",
       " '_i8',\n",
       " '_i9',\n",
       " '_ih',\n",
       " '_ii',\n",
       " '_iii',\n",
       " '_oh',\n",
       " 'a',\n",
       " 'b',\n",
       " 'exit',\n",
       " 'get_ipython',\n",
       " 'getcontext',\n",
       " 'nome',\n",
       " 'open',\n",
       " 'quit']"
      ]
     },
     "execution_count": 72,
     "metadata": {},
     "output_type": "execute_result"
    }
   ],
   "source": [
    "from decimal import Decimal, getcontext\n",
    "Decimal(1)/ Decimal(7)\n",
    "\n",
    "getcontext().prec = 4 #4 números depois da vírgula\n",
    "Decimal(1)/Decimal(7)\n",
    "dir(Decimal)\n",
    "\n",
    "getcontext().prec=5\n",
    "Decimal(1.1)+Decimal(4.4)\n",
    "dir()"
   ]
  },
  {
   "cell_type": "markdown",
   "id": "7dd6596b-c0d0-40a4-a72d-827e93c079ff",
   "metadata": {},
   "source": [
    "# Tipos de String"
   ]
  },
  {
   "cell_type": "code",
   "execution_count": 13,
   "id": "16935fc9-30ef-408b-ba09-2fab0ca8e164",
   "metadata": {},
   "outputs": [
    {
     "data": {
      "text/plain": [
       "' texto com múltiplas \\n... linhas '"
      ]
     },
     "execution_count": 13,
     "metadata": {},
     "output_type": "execute_result"
    }
   ],
   "source": [
    "dir(str)\n",
    "nome = 'Maria Eduarda'\n",
    "nome [0]\n",
    "\"Dias D'Avila\" == 'Dias D\\'Avila'\n",
    "texto = 'texto entre apóstrofo pode ter \"aspas\" '\n",
    "\n",
    "doc = \"\"\" texto com múltiplas \n",
    "... linhas \"\"\"\n",
    "doc\n",
    "# \\n é um texto de multiplas linhas \\t é um tab\n",
    "# aspas simples tbm da múltiplas linhas\n"
   ]
  },
  {
   "cell_type": "code",
   "execution_count": 22,
   "id": "c72885a1-c6f1-43cd-9094-b59ae640d632",
   "metadata": {},
   "outputs": [
    {
     "data": {
      "text/plain": [
       "'0987654321'"
      ]
     },
     "execution_count": 22,
     "metadata": {},
     "output_type": "execute_result"
    }
   ],
   "source": [
    "nome = 'Ana Paula'\n",
    "nome[0] # A\n",
    "nome[6] # u\n",
    "nome[-3] # u da direita para esquerda\n",
    "nome[4:] # mostra tudo a partir da quarta letra, no caso Paula\n",
    "nome[-5:] #mostra tudo a partir da quinta letra da direita para esquerda pegando a palavra paula\n",
    "nome[:3] # vai só até o 3 ana\n",
    "nome[2:5] # a P\n",
    "números = '1234567890'\n",
    "números\n",
    "números[::]\n",
    "números[::2] #13579 vai de dois em dois\n",
    "números[1::2] # apenas números pares\n",
    "números[::-1] # fica invertido"
   ]
  },
  {
   "cell_type": "code",
   "execution_count": 27,
   "id": "94c098bb-0988-4234-bb8b-26fa5e11e150",
   "metadata": {},
   "outputs": [
    {
     "data": {
      "text/plain": [
       "['PYTHON É UMA LINGUAG', 'M ', 'XC', 'L', 'NT', '']"
      ]
     },
     "execution_count": 27,
     "metadata": {},
     "output_type": "execute_result"
    }
   ],
   "source": [
    "frase = 'Python é uma linguagem excelente'\n",
    "'py' in frase #false\n",
    "len(frase) #32\n",
    "frase.lower() #transforma em letra minuscula\n",
    "frase.upper() # transforma em letra maiscula\n",
    "frase = frase.upper() #transforma permanentemente em maiscula\n",
    "frase.split()\n",
    "frase.split('E')\n"
   ]
  },
  {
   "cell_type": "code",
   "execution_count": 44,
   "id": "ea9810ed-7b3b-4dea-b298-a58f118344a7",
   "metadata": {},
   "outputs": [
    {
     "data": {
      "text/plain": [
       "3"
      ]
     },
     "execution_count": 44,
     "metadata": {},
     "output_type": "execute_result"
    }
   ],
   "source": [
    "a = '123'\n",
    "b = ' de oliveira'\n",
    "#a + b \n",
    "#a.__add__(b)\n",
    "str.__add__(a, b)\n",
    "#dir(str)\n",
    "len(a)\n",
    "a.__len__(a)\n"
   ]
  },
  {
   "cell_type": "markdown",
   "id": "cf388308-0096-4ad2-aa14-9c0d1e4e2e25",
   "metadata": {},
   "source": [
    "# Listas"
   ]
  },
  {
   "cell_type": "code",
   "execution_count": 57,
   "id": "f36d1bad-d6b5-44cc-801f-8a868c8835cc",
   "metadata": {},
   "outputs": [
    {
     "data": {
      "text/plain": [
       "['bia', 'ana', 1]"
      ]
     },
     "execution_count": 57,
     "metadata": {},
     "output_type": "execute_result"
    }
   ],
   "source": [
    "lista = []\n",
    "type(lista)\n",
    "\n",
    "dir(lista)\n",
    "#help(list)\n",
    "lista.append(1)\n",
    "lista.append(5)\n",
    "lista\n",
    "nova_lista = [1, 5, 'ana', 'bia']\n",
    "nova_lista\n",
    "nova_lista.remove(5)\n",
    "nova_lista\n",
    "nova_lista.reverse()\n",
    "nova_lista"
   ]
  },
  {
   "cell_type": "code",
   "execution_count": 65,
   "id": "eeeed40b-c2f4-4ac9-830f-953bede45ab9",
   "metadata": {},
   "outputs": [
    {
     "data": {
      "text/plain": [
       "[]"
      ]
     },
     "execution_count": 65,
     "metadata": {},
     "output_type": "execute_result"
    }
   ],
   "source": [
    "Lista = [1, 5, 'Rebeca', 'Guilherme', 3.1415]\n",
    "Lista.index('Guilherme')\n",
    "lista[-1]\n"
   ]
  },
  {
   "cell_type": "code",
   "execution_count": null,
   "id": "3f4e6f33-938a-4a9b-8bef-3c161731a6d2",
   "metadata": {},
   "outputs": [],
   "source": []
  }
 ],
 "metadata": {
  "kernelspec": {
   "display_name": "Python 3 (ipykernel)",
   "language": "python",
   "name": "python3"
  },
  "language_info": {
   "codemirror_mode": {
    "name": "ipython",
    "version": 3
   },
   "file_extension": ".py",
   "mimetype": "text/x-python",
   "name": "python",
   "nbconvert_exporter": "python",
   "pygments_lexer": "ipython3",
   "version": "3.12.7"
  }
 },
 "nbformat": 4,
 "nbformat_minor": 5
}
