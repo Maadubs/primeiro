{
 "cells": [
  {
   "cell_type": "markdown",
   "id": "8e48ba7b-cb71-49d2-b0be-498ac74d4ed2",
   "metadata": {},
   "source": [
    "# Primeiros exemplos"
   ]
  },
  {
   "cell_type": "markdown",
   "id": "01c2977c-c0fe-43ac-b0c9-9cb6c42b424c",
   "metadata": {},
   "source": [
    "# print('primeiro programa')"
   ]
  },
  {
   "cell_type": "code",
   "execution_count": 8,
   "id": "c36321de-8247-4c96-9cfa-3cf8f02bd91a",
   "metadata": {},
   "outputs": [
    {
     "name": "stdout",
     "output_type": "stream",
     "text": [
      "12\n",
      "50\n"
     ]
    }
   ],
   "source": [
    "print(1 + 5 + 6)\n",
    "print(10 * 5)"
   ]
  },
  {
   "cell_type": "markdown",
   "id": "447df643-c78f-4e49-8950-e83bfdc668af",
   "metadata": {},
   "source": [
    "# Tipos Básicos"
   ]
  },
  {
   "cell_type": "code",
   "execution_count": 35,
   "id": "18061114-85a7-4622-a346-7a98adafcf12",
   "metadata": {},
   "outputs": [
    {
     "name": "stdout",
     "output_type": "stream",
     "text": [
      "True\n",
      "False\n",
      "2.2\n",
      "testando tuti\n",
      "duas aspas funciona tbm\n",
      "voce é muito muito muito legal\n",
      "[1, 2, 3]\n",
      "{'Nome': 'Pedro', 'idade': 22}\n",
      "None\n"
     ]
    }
   ],
   "source": [
    "print(True)\n",
    "print(False)\n",
    "print(1.2 + 1)\n",
    "print( 'testando tuti')\n",
    "print(\"duas aspas funciona tbm\")\n",
    "print('voce é' + 3 * ' muito' + ' legal')\n",
    "# print(3 + '3') ambiguo\n",
    "print([1, 2 ,3])\n",
    "print({'Nome': 'Pedro', 'idade': 22})\n",
    "print(None)"
   ]
  },
  {
   "cell_type": "markdown",
   "id": "fb7f7994-b8ac-4da8-a6cc-622f7a4c27df",
   "metadata": {},
   "source": [
    "# Variáveis"
   ]
  },
  {
   "cell_type": "code",
   "execution_count": 60,
   "id": "019dc167-cfe8-4d9d-8ac1-a10a05f54e28",
   "metadata": {},
   "outputs": [
    {
     "name": "stdout",
     "output_type": "stream",
     "text": [
      "15.2\n"
     ]
    }
   ],
   "source": [
    "a = 10\n",
    "b = 5.2\n",
    "\n",
    "print(a + b)\n",
    "a = 'sou uma string'\n",
    "#print(b=float+ a)"
   ]
  },
  {
   "cell_type": "markdown",
   "id": "a7cec8bd-9852-4ca5-8ad5-07283a8f6c83",
   "metadata": {},
   "source": [
    "# Comentários"
   ]
  },
  {
   "cell_type": "code",
   "execution_count": 77,
   "id": "ca36a649-e80e-433e-9326-a6533ea3be88",
   "metadata": {},
   "outputs": [
    {
     "name": "stdout",
     "output_type": "stream",
     "text": [
      "994.25\n",
      "fim de verdade\n"
     ]
    }
   ],
   "source": [
    "#minhas variáveis \n",
    "salario = 3450.45\n",
    "despesas = 2456.2\n",
    "\"\"\"\n",
    "a ideia é calcular o quanto vai sobrar no final do mês\n",
    "\"\"\"\n",
    "print(salario - despesas)\n",
    "#fim\n",
    "print('fim de verdade') #aqui da para conentar "
   ]
  },
  {
   "cell_type": "markdown",
   "id": "d1571371-634e-4497-b1e5-f5b333ad73a9",
   "metadata": {},
   "source": [
    "# Operadores Aritméticos"
   ]
  },
  {
   "cell_type": "markdown",
   "id": "3b3354c9-de46-457f-a2e5-9da9f8fad753",
   "metadata": {},
   "source": [
    "são conhecidos como binario, pq precisa de dois operadores para funcionar"
   ]
  },
  {
   "cell_type": "code",
   "execution_count": 92,
   "id": "a3bf8b9f-8563-469a-b914-1414ce73bea6",
   "metadata": {},
   "outputs": [
    {
     "name": "stdout",
     "output_type": "stream",
     "text": [
      "5\n",
      "-3\n",
      "10.6\n",
      "3.1333333333333333\n",
      "3.0\n",
      "256\n",
      "1\n",
      "24\n"
     ]
    }
   ],
   "source": [
    "print(2 + 3) # o \"+\" conhecido como infix, pois fica no meio dos operando\n",
    "print(4 -7)\n",
    "print(2 * 5.3)\n",
    "print(9.4 / 3)\n",
    "print(9.4 // 3) #quando é duas barras o número é inteiro\n",
    "print(2 ** 8)\n",
    "print(10 % 3) #módulo é o resto da divisão e o símbolo é o da porcentagen\n",
    "a = 12\n",
    "b = a\n",
    "print(a + b)"
   ]
  },
  {
   "cell_type": "markdown",
   "id": "a2937113-73e9-46c4-9373-d0ecb02d0a1b",
   "metadata": {},
   "source": [
    "# Desafios"
   ]
  },
  {
   "cell_type": "code",
   "execution_count": 102,
   "id": "f2418f19-7eee-4467-a2b0-02a15c6603ca",
   "metadata": {},
   "outputs": [
    {
     "name": "stdout",
     "output_type": "stream",
     "text": [
      "71.18491790925822\n"
     ]
    },
    {
     "data": {
      "text/plain": [
       "71.18491790925822"
      ]
     },
     "execution_count": 102,
     "metadata": {},
     "output_type": "execute_result"
    }
   ],
   "source": [
    "salario = 3450.45\n",
    "despesas = 2456.2\n",
    "percentual_comprometido = despesas / salario * 100\n",
    "print(despesas / salario * 100)\n",
    "percentual_comprometido"
   ]
  },
  {
   "cell_type": "markdown",
   "id": "1ed298b9-b114-4e41-95e9-0fba60d8a75c",
   "metadata": {},
   "source": [
    "# Operadores Relacionais"
   ]
  },
  {
   "cell_type": "code",
   "execution_count": 106,
   "id": "8ff70b6f-13e7-44b0-b146-f5a8b9e1b031",
   "metadata": {},
   "outputs": [
    {
     "name": "stdout",
     "output_type": "stream",
     "text": [
      "False\n",
      "True\n",
      "True\n",
      "False\n",
      "True\n",
      "True\n",
      "False\n"
     ]
    }
   ],
   "source": [
    "print(3 > 4)\n",
    "print(4 >= 3)\n",
    "print(1 < 2)\n",
    "print(3 <= 1)\n",
    "print(3 == 3)\n",
    "print(3 != 2) #simbolo de diferente\n",
    "print(2 == '2') #False, mas varia de linguagem para linguagem"
   ]
  },
  {
   "cell_type": "markdown",
   "id": "f18534eb-85c0-4b04-b4b3-53a60780504a",
   "metadata": {},
   "source": [
    "# Operadores de Atribuição"
   ]
  },
  {
   "cell_type": "code",
   "execution_count": 113,
   "id": "1ab9a0f1-a26e-4828-b908-af3f8694a6f0",
   "metadata": {},
   "outputs": [
    {
     "name": "stdout",
     "output_type": "stream",
     "text": [
      "10\n",
      "15\n",
      "12\n",
      "24\n",
      "6.0\n",
      "2.0\n",
      "256.0\n",
      "1.0\n"
     ]
    }
   ],
   "source": [
    "a = 3\n",
    "a = a + 7\n",
    "print(a)\n",
    "\n",
    "# a = 5\n",
    "a += 5 #a = a + 5\n",
    "print(a)\n",
    "\n",
    "a -= 3\n",
    "print(a)\n",
    "\n",
    "a *= 2\n",
    "print(a)\n",
    "\n",
    "a /= 4\n",
    "print(a)\n",
    "\n",
    "a %= 4\n",
    "print(a)\n",
    "\n",
    "a **= 8\n",
    "print(a)\n",
    "\n",
    "a //= 256\n",
    "print(a)\n"
   ]
  },
  {
   "cell_type": "markdown",
   "id": "fea3b607-f163-4597-8b67-12502dcb280a",
   "metadata": {},
   "source": [
    "# Operdores Lógicos"
   ]
  },
  {
   "cell_type": "code",
   "execution_count": 138,
   "id": "d9e4277e-988b-4d24-bb5e-1aeac4ac45f5",
   "metadata": {},
   "outputs": [
    {
     "data": {
      "text/plain": [
       "True"
      ]
     },
     "execution_count": 138,
     "metadata": {},
     "output_type": "execute_result"
    }
   ],
   "source": [
    "True or False\n",
    "7 != 3 and 2 > 3 # Falso\n",
    "\n",
    "# Tabela Verdadeiro AND\n",
    "True and True #Verdadeiro\n",
    "True and False #Falso\n",
    "False and True #Falso\n",
    "False and False #Falso\n",
    "\n",
    "# Tabela verdade do OR\n",
    "True or True # Verdadeiro\n",
    "True or False # Verdadeiro\n",
    "False or True # Verdadeiro\n",
    "False or False # Falso\n",
    "\n",
    "# Tabela verdade XOR\n",
    "True != True #falso\n",
    "True != False # verdadeiro\n",
    "False != True # verdadeiro\n",
    "\n",
    "# Operador de negação (unário)\n",
    "not True\n",
    "not False\n",
    "\n",
    "not 0\n",
    "not 1\n",
    "not -1\n",
    "\n",
    "# Cuidado!\n",
    "\n",
    "True & False # =and\n",
    "False | True # | or\n",
    "True ^ False # =XORlogo verdadeiro\n",
    "\n",
    "# um pouvo de realiade\n",
    "saldo = 1000\n",
    "salario = 4000\n",
    "despesas = 2967\n",
    "meta = saldo > 0 and salario - despesas >= 0.2 * salario\n",
    "meta #true\n"
   ]
  },
  {
   "cell_type": "markdown",
   "id": "a1967bbd-03f7-4060-a988-3f1590f19879",
   "metadata": {},
   "source": [
    "# Desafio"
   ]
  },
  {
   "cell_type": "code",
   "execution_count": 173,
   "id": "130aafc6-f729-4508-8f60-0aed53a137ba",
   "metadata": {},
   "outputs": [
    {
     "name": "stdout",
     "output_type": "stream",
     "text": [
      "tv50+sorvete=False tv32+sorvete=True saudavel=False\n"
     ]
    }
   ],
   "source": [
    "# Desafio Operadores Lógicos\n",
    "\n",
    "# Os trabalhos\n",
    "trabalho_terca = False\n",
    "trabalho_quinta = False \n",
    "\n",
    "\"\"\"\n",
    "- Confirmando os 2: TV 50' + Sorvete\n",
    "- Confirmando apenas 1: TV 32! + Sorvete\n",
    "- Nenhum confirmado: Fica em casa\n",
    "\"\"\"\n",
    "\n",
    "tv_50_sorvete = trabalho_terca and trabalho_quinta\n",
    "tv_32_sorvete = trabalho_terca != trabalho_quinta\n",
    "fica_em_casa = not trabalho_terca and not trabalho_quinta\n",
    "\n",
    "print(\"tv50+sorvete={} tv32+sorvete={} saudavel={}\"\n",
    "      .format(tv_50_sorvete, tv_32_sorvete, fica_em_casa))"
   ]
  },
  {
   "cell_type": "code",
   "execution_count": null,
   "id": "f95cd287-97f5-449b-9351-38245aabf404",
   "metadata": {},
   "outputs": [],
   "source": [
    "# par impar\n",
    "a = float(input('digiteo número'))\n",
    "\n",
    "if a % 2 == 0: print('Esse número é par!')\n",
    "\n",
    "else: print('Ele é ímpar!')"
   ]
  },
  {
   "cell_type": "code",
   "execution_count": null,
   "id": "ddc77603-855c-494d-b67d-a75847cb0cf9",
   "metadata": {},
   "outputs": [],
   "source": []
  }
 ],
 "metadata": {
  "kernelspec": {
   "display_name": "Python [conda env:base] *",
   "language": "python",
   "name": "conda-base-py"
  },
  "language_info": {
   "codemirror_mode": {
    "name": "ipython",
    "version": 3
   },
   "file_extension": ".py",
   "mimetype": "text/x-python",
   "name": "python",
   "nbconvert_exporter": "python",
   "pygments_lexer": "ipython3",
   "version": "3.12.7"
  }
 },
 "nbformat": 4,
 "nbformat_minor": 5
}
